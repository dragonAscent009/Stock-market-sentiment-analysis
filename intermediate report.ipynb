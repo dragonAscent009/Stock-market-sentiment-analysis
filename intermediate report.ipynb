{
 "cells": [
  {
   "cell_type": "markdown",
   "metadata": {},
   "source": [
    "[Source of data](#source_of_data)\n",
    "\n",
    "[Prepare data with Python](#prepare_data)"
   ]
  },
  {
   "cell_type": "code",
   "execution_count": 2,
   "metadata": {},
   "outputs": [],
   "source": [
    "import pandas as pd\n",
    "import numpy as np\n",
    "%matplotlib inline\n",
    "import matplotlib.pyplot as plt\n",
    "import time \n",
    "import random\n",
    "import seaborn as sns\n",
    "import sklearn \n",
    "import statsmodels.api as sm\n",
    "import re\n",
    "import os \n",
    "import time\n",
    "import pickle\n",
    "import pyspark\n",
    "from pyspark import SparkContext\n",
    "import seaborn as sns\n",
    "from scipy import stats\n",
    "from sklearn.metrics import mean_squared_error as mse\n",
    "import nltk"
   ]
  },
  {
   "cell_type": "markdown",
   "metadata": {},
   "source": [
    "# Source of data\n",
    "<a id='source_of_data'></a>"
   ]
  },
  {
   "cell_type": "markdown",
   "metadata": {},
   "source": [
    "The data is downloaded from the Kaggle datasets. It is the years data of Dow Jones Index and news informations. \n"
   ]
  },
  {
   "cell_type": "markdown",
   "metadata": {},
   "source": [
    "<a id='prepare_data'></a>\n",
    "# Prepare data with Python\n"
   ]
  },
  {
   "cell_type": "markdown",
   "metadata": {},
   "source": [
    "We first treat our original data with python and store it to csv for latter load into sparkcontext"
   ]
  },
  {
   "cell_type": "code",
   "execution_count": 138,
   "metadata": {},
   "outputs": [],
   "source": [
    "file = \"./data2/DJIA_table.csv\""
   ]
  },
  {
   "cell_type": "code",
   "execution_count": 139,
   "metadata": {},
   "outputs": [],
   "source": [
    "df = pd.read_csv(file).sort_values('Date')"
   ]
  },
  {
   "cell_type": "code",
   "execution_count": 140,
   "metadata": {},
   "outputs": [
    {
     "data": {
      "text/html": [
       "<div>\n",
       "<style scoped>\n",
       "    .dataframe tbody tr th:only-of-type {\n",
       "        vertical-align: middle;\n",
       "    }\n",
       "\n",
       "    .dataframe tbody tr th {\n",
       "        vertical-align: top;\n",
       "    }\n",
       "\n",
       "    .dataframe thead th {\n",
       "        text-align: right;\n",
       "    }\n",
       "</style>\n",
       "<table border=\"1\" class=\"dataframe\">\n",
       "  <thead>\n",
       "    <tr style=\"text-align: right;\">\n",
       "      <th></th>\n",
       "      <th>Date</th>\n",
       "      <th>Open</th>\n",
       "      <th>High</th>\n",
       "      <th>Low</th>\n",
       "      <th>Close</th>\n",
       "      <th>Volume</th>\n",
       "      <th>Adj Close</th>\n",
       "    </tr>\n",
       "  </thead>\n",
       "  <tbody>\n",
       "    <tr>\n",
       "      <th>1988</th>\n",
       "      <td>2008-08-08</td>\n",
       "      <td>11432.089844</td>\n",
       "      <td>11759.959961</td>\n",
       "      <td>11388.040039</td>\n",
       "      <td>11734.320312</td>\n",
       "      <td>212830000</td>\n",
       "      <td>11734.320312</td>\n",
       "    </tr>\n",
       "    <tr>\n",
       "      <th>1987</th>\n",
       "      <td>2008-08-11</td>\n",
       "      <td>11729.669922</td>\n",
       "      <td>11867.110352</td>\n",
       "      <td>11675.530273</td>\n",
       "      <td>11782.349609</td>\n",
       "      <td>183190000</td>\n",
       "      <td>11782.349609</td>\n",
       "    </tr>\n",
       "    <tr>\n",
       "      <th>1986</th>\n",
       "      <td>2008-08-12</td>\n",
       "      <td>11781.700195</td>\n",
       "      <td>11782.349609</td>\n",
       "      <td>11601.519531</td>\n",
       "      <td>11642.469727</td>\n",
       "      <td>173590000</td>\n",
       "      <td>11642.469727</td>\n",
       "    </tr>\n",
       "    <tr>\n",
       "      <th>1985</th>\n",
       "      <td>2008-08-13</td>\n",
       "      <td>11632.809570</td>\n",
       "      <td>11633.780273</td>\n",
       "      <td>11453.339844</td>\n",
       "      <td>11532.959961</td>\n",
       "      <td>182550000</td>\n",
       "      <td>11532.959961</td>\n",
       "    </tr>\n",
       "    <tr>\n",
       "      <th>1984</th>\n",
       "      <td>2008-08-14</td>\n",
       "      <td>11532.070312</td>\n",
       "      <td>11718.280273</td>\n",
       "      <td>11450.889648</td>\n",
       "      <td>11615.929688</td>\n",
       "      <td>159790000</td>\n",
       "      <td>11615.929688</td>\n",
       "    </tr>\n",
       "  </tbody>\n",
       "</table>\n",
       "</div>"
      ],
      "text/plain": [
       "            Date          Open          High           Low         Close  \\\n",
       "1988  2008-08-08  11432.089844  11759.959961  11388.040039  11734.320312   \n",
       "1987  2008-08-11  11729.669922  11867.110352  11675.530273  11782.349609   \n",
       "1986  2008-08-12  11781.700195  11782.349609  11601.519531  11642.469727   \n",
       "1985  2008-08-13  11632.809570  11633.780273  11453.339844  11532.959961   \n",
       "1984  2008-08-14  11532.070312  11718.280273  11450.889648  11615.929688   \n",
       "\n",
       "         Volume     Adj Close  \n",
       "1988  212830000  11734.320312  \n",
       "1987  183190000  11782.349609  \n",
       "1986  173590000  11642.469727  \n",
       "1985  182550000  11532.959961  \n",
       "1984  159790000  11615.929688  "
      ]
     },
     "execution_count": 140,
     "metadata": {},
     "output_type": "execute_result"
    }
   ],
   "source": [
    "df.head(5)"
   ]
  },
  {
   "cell_type": "code",
   "execution_count": 141,
   "metadata": {},
   "outputs": [
    {
     "name": "stdout",
     "output_type": "stream",
     "text": [
      "The beginning date of the data is 2008-08-08\n",
      "The ending date of the data is 2016-07-01\n"
     ]
    }
   ],
   "source": [
    "print('The beginning date of the data is {}'.format(df.Date.iloc[0]))\n",
    "print('The ending date of the data is {}'.format(df.Date.iloc[-1]))"
   ]
  },
  {
   "cell_type": "markdown",
   "metadata": {},
   "source": [
    "This is the sample data that we use from 20080808 - 20160701"
   ]
  },
  {
   "cell_type": "markdown",
   "metadata": {},
   "source": [
    "# Use pyspark to do analysis"
   ]
  },
  {
   "cell_type": "markdown",
   "metadata": {},
   "source": [
    "We first initialize a sparkcontext and create a initial rdd "
   ]
  },
  {
   "cell_type": "code",
   "execution_count": 142,
   "metadata": {},
   "outputs": [],
   "source": [
    "sc= pyspark.SparkContext('local')\n",
    "rdd = sc.textFile('./data2/DJIA_table.csv')"
   ]
  },
  {
   "cell_type": "code",
   "execution_count": 143,
   "metadata": {},
   "outputs": [
    {
     "data": {
      "text/plain": [
       "['2016-06-23,17844.109375,18011.070312,17844.109375,18011.070312,98070000,18011.070312',\n",
       " '2016-06-22,17832.669922,17920.160156,17770.359375,17780.830078,89440000,17780.830078',\n",
       " '2016-06-21,17827.330078,17877.839844,17799.800781,17829.730469,85130000,17829.730469']"
      ]
     },
     "execution_count": 143,
     "metadata": {},
     "output_type": "execute_result"
    }
   ],
   "source": [
    "header = sc.parallelize(rdd.take(1))\n",
    "rdd1 = rdd.subtract(sc.parallelize(rdd.take(1)))\n",
    "rdd1.take(3)"
   ]
  },
  {
   "cell_type": "markdown",
   "metadata": {},
   "source": [
    "First to see what is amount of data do we have"
   ]
  },
  {
   "cell_type": "code",
   "execution_count": 144,
   "metadata": {},
   "outputs": [
    {
     "name": "stdout",
     "output_type": "stream",
     "text": [
      "The number of data sample we have is 1990\n"
     ]
    },
    {
     "data": {
      "text/plain": [
       "0.07454705238342285"
      ]
     },
     "execution_count": 144,
     "metadata": {},
     "output_type": "execute_result"
    }
   ],
   "source": [
    "start = time.time()\n",
    "print('The number of data sample we have is {}'.format(rdd.count()))\n",
    "time.time() - start"
   ]
  },
  {
   "cell_type": "markdown",
   "metadata": {},
   "source": [
    "Check out the features of the rdd"
   ]
  },
  {
   "cell_type": "code",
   "execution_count": 145,
   "metadata": {},
   "outputs": [
    {
     "data": {
      "text/plain": [
       "['Date,Open,High,Low,Close,Volume,Adj Close',\n",
       " '2016-07-01,17924.240234,18002.380859,17916.910156,17949.369141,82160000,17949.369141',\n",
       " '2016-06-30,17712.759766,17930.609375,17711.800781,17929.990234,133030000,17929.990234',\n",
       " '2016-06-29,17456.019531,17704.509766,17456.019531,17694.679688,106380000,17694.679688']"
      ]
     },
     "execution_count": 145,
     "metadata": {},
     "output_type": "execute_result"
    }
   ],
   "source": [
    "rdd.take(4)"
   ]
  },
  {
   "cell_type": "markdown",
   "metadata": {},
   "source": [
    "The first column is the date.\n",
    "\n",
    "The following columns are open, high, low, close in a day. The last column is the same as the close column so we can just ignore it."
   ]
  },
  {
   "cell_type": "markdown",
   "metadata": {},
   "source": [
    "Now we clean the rdd and transform the data type so we can do the exploratory data analysis"
   ]
  },
  {
   "cell_type": "code",
   "execution_count": 146,
   "metadata": {},
   "outputs": [
    {
     "data": {
      "text/plain": [
       "[['2016-06-23',\n",
       "  '17844.109375',\n",
       "  '18011.070312',\n",
       "  '17844.109375',\n",
       "  '18011.070312',\n",
       "  '98070000',\n",
       "  '18011.070312'],\n",
       " ['2016-06-22',\n",
       "  '17832.669922',\n",
       "  '17920.160156',\n",
       "  '17770.359375',\n",
       "  '17780.830078',\n",
       "  '89440000',\n",
       "  '17780.830078'],\n",
       " ['2016-06-21',\n",
       "  '17827.330078',\n",
       "  '17877.839844',\n",
       "  '17799.800781',\n",
       "  '17829.730469',\n",
       "  '85130000',\n",
       "  '17829.730469']]"
      ]
     },
     "execution_count": 146,
     "metadata": {},
     "output_type": "execute_result"
    }
   ],
   "source": [
    "rdd1 = rdd1.map(lambda x: x.split(','))\n",
    "rdd1.take(3)"
   ]
  },
  {
   "cell_type": "markdown",
   "metadata": {},
   "source": [
    "# A first look at the overday return"
   ]
  },
  {
   "cell_type": "code",
   "execution_count": 147,
   "metadata": {},
   "outputs": [],
   "source": [
    "open_price = rdd1.map(lambda x: float(x[1])) # start stock price\n",
    "close_price = rdd1.map(lambda x: float(x[4])) # end stock price"
   ]
  },
  {
   "cell_type": "code",
   "execution_count": 148,
   "metadata": {},
   "outputs": [
    {
     "data": {
      "text/plain": [
       "[17844.109375, 17832.669922, 17827.330078, 17736.869141]"
      ]
     },
     "execution_count": 148,
     "metadata": {},
     "output_type": "execute_result"
    }
   ],
   "source": [
    "open_price.take(4)"
   ]
  },
  {
   "cell_type": "code",
   "execution_count": 149,
   "metadata": {},
   "outputs": [
    {
     "data": {
      "text/plain": [
       "[18011.070312, 17780.830078, 17829.730469, 17804.869141]"
      ]
     },
     "execution_count": 149,
     "metadata": {},
     "output_type": "execute_result"
    }
   ],
   "source": [
    "close_price.take(4)"
   ]
  },
  {
   "cell_type": "code",
   "execution_count": 150,
   "metadata": {},
   "outputs": [
    {
     "data": {
      "text/plain": [
       "[0.009356641650824837, -0.002907015283002967]"
      ]
     },
     "execution_count": 150,
     "metadata": {},
     "output_type": "execute_result"
    }
   ],
   "source": [
    "daily_change_rate = rdd1.map(lambda x: float(x[4])/float(x[1])-1)\n",
    "daily_change_rate.take(2)"
   ]
  },
  {
   "cell_type": "code",
   "execution_count": 151,
   "metadata": {},
   "outputs": [
    {
     "name": "stdout",
     "output_type": "stream",
     "text": [
      "The mean of overday return is 0.0003660357992929041, variance is 0.00015679008566899904\n",
      "The max of overday return is 0.1093292980645828, min is -0.07783347590526868\n"
     ]
    }
   ],
   "source": [
    "print(\"The mean of overday return is {}, variance is {}\"\n",
    "      .format(daily_change_rate.mean(), daily_change_rate.variance()))\n",
    "print(\"The max of overday return is {}, min is {}\".format(daily_change_rate.max(), daily_change_rate.min()))"
   ]
  },
  {
   "cell_type": "markdown",
   "metadata": {},
   "source": [
    "## some visualization of overday return data"
   ]
  },
  {
   "cell_type": "code",
   "execution_count": 152,
   "metadata": {},
   "outputs": [],
   "source": [
    "data = daily_change_rate.collect()"
   ]
  },
  {
   "cell_type": "code",
   "execution_count": 153,
   "metadata": {},
   "outputs": [
    {
     "data": {
      "text/plain": [
       "[0.009356641650824837,\n",
       " -0.002907015283002967,\n",
       " 0.00013464669075502478,\n",
       " 0.003833822049394975,\n",
       " -0.0035857276662145665,\n",
       " -0.004096170579892977,\n",
       " 0.005309226622035146,\n",
       " 0.0004078565872349671,\n",
       " 0.0027831595181502244,\n",
       " -0.0058296275326272795]"
      ]
     },
     "execution_count": 153,
     "metadata": {},
     "output_type": "execute_result"
    }
   ],
   "source": [
    "data[:10]"
   ]
  },
  {
   "cell_type": "code",
   "execution_count": 154,
   "metadata": {},
   "outputs": [
    {
     "name": "stderr",
     "output_type": "stream",
     "text": [
      "/Users/lunzhang/anaconda3/envs/tensorflow_env/lib/python3.6/site-packages/scipy/stats/stats.py:1713: FutureWarning: Using a non-tuple sequence for multidimensional indexing is deprecated; use `arr[tuple(seq)]` instead of `arr[seq]`. In the future this will be interpreted as an array index, `arr[np.array(seq)]`, which will result either in an error or a different result.\n",
      "  return np.add.reduce(sorted[indexer] * weights, axis=axis) / sumval\n"
     ]
    },
    {
     "data": {
      "text/plain": [
       "Text(0, 0.5, 'density function')"
      ]
     },
     "execution_count": 154,
     "metadata": {},
     "output_type": "execute_result"
    },
    {
     "data": {
      "image/png": "[encoded data removed]",
      "text/plain": [
       "<Figure size 432x432 with 1 Axes>"
      ]
     },
     "metadata": {
      "needs_background": "light"
     },
     "output_type": "display_data"
    }
   ],
   "source": [
    "fig, axs = plt.subplots(figsize=(6,6), ncols=1, nrows=1)\n",
    "sns.distplot(data, kde=1, norm_hist=True)\n",
    "axs.set_xlabel('overday return')\n",
    "axs.set_ylabel('density function')"
   ]
  },
  {
   "cell_type": "code",
   "execution_count": 155,
   "metadata": {},
   "outputs": [],
   "source": [
    "dates = rdd1.map(lambda x: pd.to_datetime(x[0])).collect()"
   ]
  },
  {
   "cell_type": "code",
   "execution_count": 156,
   "metadata": {},
   "outputs": [],
   "source": [
    "ts_open = pd.Series(open_price.collect(),index=dates)"
   ]
  },
  {
   "cell_type": "code",
   "execution_count": 157,
   "metadata": {},
   "outputs": [
    {
     "data": {
      "text/plain": [
       "<matplotlib.axes._subplots.AxesSubplot at 0x1c2c91cbe0>"
      ]
     },
     "execution_count": 157,
     "metadata": {},
     "output_type": "execute_result"
    },
    {
     "data": {
      "image/png": "[encoded data removed]",
      "text/plain": [
       "<Figure size 432x288 with 1 Axes>"
      ]
     },
     "metadata": {
      "needs_background": "light"
     },
     "output_type": "display_data"
    }
   ],
   "source": [
    "ts_open.plot(title=\"Open price of Dow Jones Industrial Index\")"
   ]
  },
  {
   "cell_type": "markdown",
   "metadata": {},
   "source": [
    "We can see the overday return data is centered around 0 (have a slight shift to right), and with a symmetric bell shape. And the general shape of the Dow Jones Index is first dropping and then increased for a long time and then vibrate on plateau"
   ]
  },
  {
   "cell_type": "markdown",
   "metadata": {},
   "source": [
    "# Next step"
   ]
  },
  {
   "cell_type": "markdown",
   "metadata": {},
   "source": [
    "First, We will try to basically analyze data to reveal some intrady trend in stock price movement. Then, we want to use some more sophisticated models like regression, time series model or RNN to predict future price by using historical time information. After that we will use News information to do text mining. Finally, we hope we can combine these models together to get a prediction model."
   ]
  },
  {
   "cell_type": "markdown",
   "metadata": {},
   "source": [
    "# NN and RNN"
   ]
  },
  {
   "cell_type": "markdown",
   "metadata": {},
   "source": [
    "In this section we will use RNN model to do prediction of return of Dow Jones Index. The features \n",
    "that we will use is price information (open, high, low, close) and volume information.\n",
    "\n",
    "We will train a sequential NN model first and then change to more complicated RNN and LSTM models"
   ]
  },
  {
   "cell_type": "markdown",
   "metadata": {},
   "source": [
    "The module we will use for the deep learning is keras and the backend engine is tensorflow."
   ]
  },
  {
   "cell_type": "code",
   "execution_count": 158,
   "metadata": {},
   "outputs": [
    {
     "name": "stderr",
     "output_type": "stream",
     "text": [
      "Using TensorFlow backend.\n"
     ]
    }
   ],
   "source": [
    "import keras"
   ]
  },
  {
   "cell_type": "markdown",
   "metadata": {},
   "source": [
    "First we try to use the previous 10 days data to predict the next 5 days return"
   ]
  },
  {
   "cell_type": "markdown",
   "metadata": {},
   "source": [
    "## Data preprocessing"
   ]
  },
  {
   "cell_type": "code",
   "execution_count": 159,
   "metadata": {},
   "outputs": [],
   "source": [
    "df = pd.read_csv('./data2/DJIA_table.csv').sort_values('Date')"
   ]
  },
  {
   "cell_type": "code",
   "execution_count": 160,
   "metadata": {},
   "outputs": [],
   "source": [
    "for i in range(1,11):\n",
    "    if i == 1:\n",
    "        X = np.array([df.Open.shift(1)])\n",
    "    else:\n",
    "        X = np.append(X, [np.array(df.Open.shift(i))],axis=0)\n",
    "        \n",
    "# first column is yesterday\n",
    "X =X.T"
   ]
  },
  {
   "cell_type": "code",
   "execution_count": 161,
   "metadata": {},
   "outputs": [],
   "source": [
    "X = X/X[:,9].reshape((len(X),1)) -1 "
   ]
  },
  {
   "cell_type": "code",
   "execution_count": 162,
   "metadata": {},
   "outputs": [],
   "source": [
    "Y = np.array(df.Open.shift(-4))/np.array(df.Open) -1 \n",
    "Y = Y. reshape((len(Y),1))"
   ]
  },
  {
   "cell_type": "code",
   "execution_count": 163,
   "metadata": {},
   "outputs": [
    {
     "name": "stdout",
     "output_type": "stream",
     "text": [
      "(1989, 10) (1989, 1)\n"
     ]
    }
   ],
   "source": [
    "print(X.shape, Y.shape)"
   ]
  },
  {
   "cell_type": "code",
   "execution_count": 164,
   "metadata": {},
   "outputs": [
    {
     "data": {
      "text/plain": [
       "(1975, 10)"
      ]
     },
     "execution_count": 164,
     "metadata": {},
     "output_type": "execute_result"
    }
   ],
   "source": [
    "XY = np.append(X,Y,axis= 1)\n",
    "XY = XY[~np.isnan(XY).any(axis = 1)]\n",
    "XY = np.delete(XY,9,1)\n",
    "XY.shape"
   ]
  },
  {
   "cell_type": "code",
   "execution_count": 165,
   "metadata": {},
   "outputs": [
    {
     "name": "stdout",
     "output_type": "stream",
     "text": [
      "(1777, 10) (198, 10)\n"
     ]
    }
   ],
   "source": [
    "ratio = 0.9\n",
    "train_cut = int(len(XY)*ratio)\n",
    "XY_train  = XY[:train_cut]\n",
    "XY_test = XY[train_cut:]\n",
    "print(XY_train.shape, XY_test.shape)"
   ]
  },
  {
   "cell_type": "markdown",
   "metadata": {},
   "source": [
    "Then we unify above into a more general function that can produce the training and testing data for any n and m days."
   ]
  },
  {
   "cell_type": "code",
   "execution_count": 166,
   "metadata": {},
   "outputs": [],
   "source": [
    "def nd_mr(n,m,df):\n",
    "    assert((n>0)&(m>0))\n",
    "    \n",
    "    for i in range(1,n+1):\n",
    "        if i == 1:\n",
    "            X = np.array([df.Open.shift(1)])\n",
    "        else:\n",
    "            X = np.append(X, [np.array(df.Open.shift(i))],axis=0)\n",
    "\n",
    "    # first column is yesterday\n",
    "    X =X.T\n",
    "    X = X/X[:,n-1].reshape((len(X),1)) -1 \n",
    "    \n",
    "    Y = np.array(df.Open.shift(-(m-1)))/np.array(df.Open) -1 \n",
    "    Y = Y.reshape((len(Y),1))\n",
    "                 \n",
    "    XY = np.append(X,Y,axis= 1)\n",
    "    XY = XY[~np.isnan(XY).any(axis = 1)]\n",
    "    XY = np.delete(XY,n-1,1)\n",
    "    #XY.shape\n",
    "    return XY\n",
    "\n",
    "def get_train_test(XY,train_ratio):\n",
    "    ratio = train_ratio\n",
    "    train_cut = int(len(XY)*ratio)\n",
    "    XY_train  = XY[:train_cut]\n",
    "    XY_test = XY[train_cut:]\n",
    "    return XY_train, XY_test"
   ]
  },
  {
   "cell_type": "code",
   "execution_count": 167,
   "metadata": {},
   "outputs": [],
   "source": [
    "XY = nd_mr(10,5,df)\n",
    "XY_train, XY_test = get_train_test(XY,0.9)"
   ]
  },
  {
   "cell_type": "code",
   "execution_count": 168,
   "metadata": {},
   "outputs": [
    {
     "name": "stdout",
     "output_type": "stream",
     "text": [
      "(1777, 10) (198, 10)\n"
     ]
    }
   ],
   "source": [
    "print(XY_train.shape, XY_test.shape)"
   ]
  },
  {
   "cell_type": "markdown",
   "metadata": {},
   "source": [
    "## Benchmark as the linear model"
   ]
  },
  {
   "cell_type": "markdown",
   "metadata": {},
   "source": [
    "In order to set a bench mark we use linear model to do the predicition first"
   ]
  },
  {
   "cell_type": "code",
   "execution_count": 169,
   "metadata": {},
   "outputs": [
    {
     "name": "stdout",
     "output_type": "stream",
     "text": [
      "(1777, 9) (1777, 1)\n",
      "(198, 9) (198, 1)\n"
     ]
    },
    {
     "data": {
      "text/plain": [
       "Ridge(alpha=0, copy_X=True, fit_intercept=True, max_iter=None,\n",
       "   normalize=False, random_state=None, solver='auto', tol=0.001)"
      ]
     },
     "execution_count": 169,
     "metadata": {},
     "output_type": "execute_result"
    }
   ],
   "source": [
    "from sklearn import linear_model\n",
    "\n",
    "x_train = XY_train[:,:-1]\n",
    "y_train = XY_train[:,-1].reshape((len(XY_train),1))\n",
    "x_test = XY_test[:,:-1]\n",
    "y_test = XY_test[:,-1].reshape((len(XY_test),1))\n",
    "print(x_train.shape, y_train.shape)\n",
    "print(x_test.shape, y_test.shape)\n",
    "\n",
    "reg = linear_model.Ridge (alpha = 0)\n",
    "reg.fit(x_train,y_train)"
   ]
  },
  {
   "cell_type": "code",
   "execution_count": 170,
   "metadata": {},
   "outputs": [
    {
     "name": "stdout",
     "output_type": "stream",
     "text": [
      "[[-0.11443767  0.09264025 -0.08272749  0.07982171  0.05082688 -0.00262436\n",
      "   0.0178554  -0.0208569   0.03125321]]\n",
      "[0.00112761]\n"
     ]
    }
   ],
   "source": [
    "print(reg.coef_)\n",
    "print(reg.intercept_)"
   ]
  },
  {
   "cell_type": "code",
   "execution_count": 171,
   "metadata": {},
   "outputs": [
    {
     "name": "stdout",
     "output_type": "stream",
     "text": [
      "Mean square error on training set is : 0.0005289457358759916\n",
      "Variance of y_train: 0.0005333623262103877\n"
     ]
    }
   ],
   "source": [
    "print('Mean square error on training set is : {}'.\\\n",
    "      format(sklearn.metrics.mean_squared_error(y_train, reg.predict(x_train))))\n",
    "print('Variance of y_train: {}'.format(np.var(y_train)))"
   ]
  },
  {
   "cell_type": "markdown",
   "metadata": {},
   "source": [
    "The training seems to be slightly better than constant mean value prediction. Let's check the behavior on the testing set"
   ]
  },
  {
   "cell_type": "code",
   "execution_count": 172,
   "metadata": {},
   "outputs": [
    {
     "name": "stdout",
     "output_type": "stream",
     "text": [
      "Mean square error is : 0.00029873840940170763\n",
      "Variance of y_test: 0.00029672867190402803\n"
     ]
    }
   ],
   "source": [
    "print('Mean square error is : {}'.\\\n",
    "      format(sklearn.metrics.mean_squared_error(y_test, reg.predict(x_test))))\n",
    "print('Variance of y_test: {}'.format(np.var(y_test)))"
   ]
  },
  {
   "cell_type": "markdown",
   "metadata": {},
   "source": [
    "The behavior is also the same, so we can conclude the linear model will just produce the constant \n",
    "estimation by taking the mean value which means the linear model is not useful in prediction open price changes.\n",
    "So in the following we can just use the mean of y value as benchmark"
   ]
  },
  {
   "cell_type": "markdown",
   "metadata": {},
   "source": [
    "## Building Sequential NN model (Naive y value)"
   ]
  },
  {
   "cell_type": "markdown",
   "metadata": {},
   "source": [
    "We first start using sequential neural network model to do the predictions"
   ]
  },
  {
   "cell_type": "code",
   "execution_count": 173,
   "metadata": {},
   "outputs": [],
   "source": [
    "from keras.models import Sequential\n",
    "model = Sequential()"
   ]
  },
  {
   "cell_type": "code",
   "execution_count": 174,
   "metadata": {},
   "outputs": [],
   "source": [
    "from keras.layers import Dense"
   ]
  },
  {
   "cell_type": "code",
   "execution_count": 175,
   "metadata": {},
   "outputs": [],
   "source": [
    "model.add(Dense(units=64, activation='relu', input_dim = 9))\n",
    "model.add(Dense(units=1,activation='linear'))"
   ]
  },
  {
   "cell_type": "code",
   "execution_count": 176,
   "metadata": {},
   "outputs": [],
   "source": [
    "model.compile(loss='mean_squared_error',\n",
    "              optimizer='sgd')"
   ]
  },
  {
   "cell_type": "code",
   "execution_count": 177,
   "metadata": {},
   "outputs": [],
   "source": [
    "x_train = XY_train[:,:-1]\n",
    "y_train = XY_train[:,-1].reshape((len(XY_train),1))\n",
    "x_test = XY_test[:,:-1]\n",
    "y_test = XY_test[:,-1].reshape((len(XY_test),1))"
   ]
  },
  {
   "cell_type": "code",
   "execution_count": 178,
   "metadata": {},
   "outputs": [
    {
     "name": "stdout",
     "output_type": "stream",
     "text": [
      "Epoch 1/5\n",
      "1777/1777 [==============================] - 0s 237us/step - loss: 6.2275e-04\n",
      "Epoch 2/5\n",
      "1777/1777 [==============================] - 0s 139us/step - loss: 6.0005e-04\n",
      "Epoch 3/5\n",
      "1777/1777 [==============================] - 0s 145us/step - loss: 5.9291e-04\n",
      "Epoch 4/5\n",
      "1777/1777 [==============================] - 0s 144us/step - loss: 5.8993e-04\n",
      "Epoch 5/5\n",
      "1777/1777 [==============================] - 0s 152us/step - loss: 5.8748e-04\n"
     ]
    },
    {
     "data": {
      "text/plain": [
       "<keras.callbacks.History at 0x1c2ccb75c0>"
      ]
     },
     "execution_count": 178,
     "metadata": {},
     "output_type": "execute_result"
    }
   ],
   "source": [
    "model.fit(x_train, y_train, epochs=5, batch_size=10)"
   ]
  },
  {
   "cell_type": "code",
   "execution_count": 179,
   "metadata": {},
   "outputs": [
    {
     "name": "stdout",
     "output_type": "stream",
     "text": [
      "198/198 [==============================] - 0s 162us/step\n"
     ]
    }
   ],
   "source": [
    "loss_and_metrics = model.evaluate(x_test, y_test, batch_size=128)"
   ]
  },
  {
   "cell_type": "code",
   "execution_count": 180,
   "metadata": {},
   "outputs": [
    {
     "name": "stdout",
     "output_type": "stream",
     "text": [
      "[[ 0.00120823]\n",
      " [-0.00187322]\n",
      " [-0.00542443]\n",
      " ...\n",
      " [-0.00254151]\n",
      " [ 0.00585436]\n",
      " [-0.00090384]] 0.001103167008209025\n"
     ]
    }
   ],
   "source": [
    "print(model.predict(x_train), np.mean(y_train))"
   ]
  },
  {
   "cell_type": "code",
   "execution_count": 186,
   "metadata": {},
   "outputs": [
    {
     "name": "stdout",
     "output_type": "stream",
     "text": [
      "The variance of the y_test is 0.0005333623262103877\n",
      "The mse of the prediction is 0.00032786520582554486\n"
     ]
    }
   ],
   "source": [
    "print('The variance of the y_test is {}'.format(np.var(y_train)))\n",
    "print('The mse of the prediction is {}'.format(np.var(y_test - model.predict(x_test))))"
   ]
  },
  {
   "cell_type": "markdown",
   "metadata": {},
   "source": [
    "The variance of the NN model is better then the mean guess."
   ]
  },
  {
   "cell_type": "markdown",
   "metadata": {},
   "source": [
    "## Building Sequential NN model (categorical y value)"
   ]
  },
  {
   "cell_type": "markdown",
   "metadata": {},
   "source": [
    "Instead of using the return value y directly we classify them into three categories: high increas,\n",
    "high decease and not obvious change, and give them proportion of 25%, 25% 50%. We also use hot encoding\n",
    "with respectively, high increas: (1, 0), high decrease (0, 1), not obvious change (0, 0)"
   ]
  },
  {
   "cell_type": "code",
   "execution_count": 187,
   "metadata": {},
   "outputs": [],
   "source": [
    "lower_cut, upper_cut= np.quantile(XY[:,9],[0.25,0.75])\n",
    "def helper(x):\n",
    "    if x<= lower_cut:\n",
    "        return (1,0)\n",
    "    elif x>= upper_cut:\n",
    "        return (0,1)\n",
    "    else:\n",
    "        return (0,0)\n",
    "categories = np.array(list(map(lambda x: helper(x), XY[:,9])))"
   ]
  },
  {
   "cell_type": "code",
   "execution_count": 188,
   "metadata": {},
   "outputs": [
    {
     "data": {
      "text/plain": [
       "array([[0, 0],\n",
       "       [0, 0],\n",
       "       [0, 1],\n",
       "       ...,\n",
       "       [1, 0],\n",
       "       [1, 0],\n",
       "       [0, 1]])"
      ]
     },
     "execution_count": 188,
     "metadata": {},
     "output_type": "execute_result"
    }
   ],
   "source": [
    "categories"
   ]
  },
  {
   "cell_type": "code",
   "execution_count": 189,
   "metadata": {},
   "outputs": [],
   "source": [
    "model_cat = Sequential()\n",
    "\n",
    "model_cat.add(Dense(units=64, activation='relu', input_dim = 9))\n",
    "model_cat.add(Dense(units=2, activation='softmax'))\n",
    "\n",
    "model_cat.compile(loss='mean_squared_error',\n",
    "              optimizer='Adam')\n"
   ]
  },
  {
   "cell_type": "code",
   "execution_count": 190,
   "metadata": {},
   "outputs": [
    {
     "name": "stdout",
     "output_type": "stream",
     "text": [
      "(1777, 9) (1777, 2)\n",
      "(198, 9) (198, 2)\n"
     ]
    }
   ],
   "source": [
    "x_train = XY_train[:,:-1]\n",
    "y_train = categories[:len(XY_train)]\n",
    "x_test = XY_test[:,:-1]\n",
    "y_test = categories[len(XY_train):]\n",
    "print(x_train.shape, y_train.shape)\n",
    "print(x_test.shape, y_test.shape)"
   ]
  },
  {
   "cell_type": "code",
   "execution_count": 191,
   "metadata": {},
   "outputs": [
    {
     "name": "stdout",
     "output_type": "stream",
     "text": [
      "Epoch 1/5\n",
      "1777/1777 [==============================] - 1s 324us/step - loss: 0.2502\n",
      "Epoch 2/5\n",
      "1777/1777 [==============================] - 0s 187us/step - loss: 0.2500\n",
      "Epoch 3/5\n",
      "1777/1777 [==============================] - 0s 187us/step - loss: 0.2499\n",
      "Epoch 4/5\n",
      "1777/1777 [==============================] - 0s 200us/step - loss: 0.2499\n",
      "Epoch 5/5\n",
      "1777/1777 [==============================] - 0s 188us/step - loss: 0.2498\n"
     ]
    },
    {
     "data": {
      "text/plain": [
       "<keras.callbacks.History at 0x1c307e5ef0>"
      ]
     },
     "execution_count": 191,
     "metadata": {},
     "output_type": "execute_result"
    }
   ],
   "source": [
    "model_cat.fit(x_train, y_train, epochs=5, batch_size=10)"
   ]
  },
  {
   "cell_type": "code",
   "execution_count": 194,
   "metadata": {},
   "outputs": [],
   "source": [
    "result = model_cat.predict(x_train)"
   ]
  },
  {
   "cell_type": "code",
   "execution_count": 195,
   "metadata": {},
   "outputs": [
    {
     "data": {
      "text/plain": [
       "array([[0.488504  , 0.511496  ],\n",
       "       [0.48354578, 0.5164542 ],\n",
       "       [0.48744154, 0.51255846],\n",
       "       ...,\n",
       "       [0.49933207, 0.5006679 ],\n",
       "       [0.48826355, 0.51173645],\n",
       "       [0.4916149 , 0.50838506]], dtype=float32)"
      ]
     },
     "execution_count": 195,
     "metadata": {},
     "output_type": "execute_result"
    }
   ],
   "source": [
    "result"
   ]
  },
  {
   "cell_type": "markdown",
   "metadata": {},
   "source": [
    "The result are all arounded (0.5, 0.5) point which is the proportion of the cut we do, so the model \n",
    "is not well trained.\n",
    "\n",
    "We changea hot coding method"
   ]
  },
  {
   "cell_type": "code",
   "execution_count": 196,
   "metadata": {},
   "outputs": [],
   "source": [
    "def helper(x):\n",
    "    if x<= lower_cut:\n",
    "        return (1,0,0)\n",
    "    elif x>= upper_cut:\n",
    "        return (0,0,1)\n",
    "    else:\n",
    "        return (0,1,0)\n",
    "categories = np.array(list(map(lambda x: helper(x), XY[:,9])))"
   ]
  },
  {
   "cell_type": "code",
   "execution_count": 197,
   "metadata": {},
   "outputs": [
    {
     "data": {
      "text/plain": [
       "array([[0, 1, 0],\n",
       "       [0, 1, 0],\n",
       "       [0, 0, 1],\n",
       "       ...,\n",
       "       [1, 0, 0],\n",
       "       [1, 0, 0],\n",
       "       [0, 0, 1]])"
      ]
     },
     "execution_count": 197,
     "metadata": {},
     "output_type": "execute_result"
    }
   ],
   "source": [
    "categories"
   ]
  },
  {
   "cell_type": "code",
   "execution_count": 198,
   "metadata": {},
   "outputs": [
    {
     "name": "stdout",
     "output_type": "stream",
     "text": [
      "(1777, 9) (1777, 3)\n",
      "(198, 9) (198, 3)\n",
      "Epoch 1/5\n",
      "1777/1777 [==============================] - 0s 276us/step - loss: 0.2198\n",
      "Epoch 2/5\n",
      "1777/1777 [==============================] - 0s 170us/step - loss: 0.2153\n",
      "Epoch 3/5\n",
      "1777/1777 [==============================] - 0s 163us/step - loss: 0.2123\n",
      "Epoch 4/5\n",
      "1777/1777 [==============================] - 0s 158us/step - loss: 0.2103\n",
      "Epoch 5/5\n",
      "1777/1777 [==============================] - 0s 171us/step - loss: 0.2090\n"
     ]
    },
    {
     "data": {
      "text/plain": [
       "array([[0.27636775, 0.45175287, 0.27187946],\n",
       "       [0.27538493, 0.44834962, 0.27626544],\n",
       "       [0.2756407 , 0.4485015 , 0.27585778],\n",
       "       ...,\n",
       "       [0.28147665, 0.4499548 , 0.26856858],\n",
       "       [0.27441764, 0.4514154 , 0.27416694],\n",
       "       [0.27339014, 0.45161843, 0.27499142]], dtype=float32)"
      ]
     },
     "execution_count": 198,
     "metadata": {},
     "output_type": "execute_result"
    }
   ],
   "source": [
    "model_cat = Sequential()\n",
    "\n",
    "model_cat.add(Dense(units=64, activation='relu', input_dim = 9))\n",
    "model_cat.add(Dense(units=3, activation='softmax'))\n",
    "\n",
    "model_cat.compile(loss='mean_squared_error',\n",
    "              optimizer='sgd')\n",
    "\n",
    "x_train = XY_train[:,:-1]\n",
    "y_train = categories[:len(XY_train)]\n",
    "x_test = XY_test[:,:-1]\n",
    "y_test = categories[len(XY_train):]\n",
    "print(x_train.shape, y_train.shape)\n",
    "print(x_test.shape, y_test.shape)\n",
    "\n",
    "model_cat.fit(x_train, y_train, epochs=5, batch_size=10)\n",
    "result = model_cat.predict(x_train)\n",
    "result\n"
   ]
  },
  {
   "cell_type": "markdown",
   "metadata": {},
   "source": [
    "The final result is also close to the proportion (0.25,0.5,0.25) so the model is not well trained.\n",
    "From above we can conclude the trivial deep learning model is not good at doing prediction for our problem\n",
    "\n",
    "Then we go the following more complicated model which is designed to deal with time series data"
   ]
  },
  {
   "cell_type": "markdown",
   "metadata": {},
   "source": [
    "## Building Recurrent NN model"
   ]
  },
  {
   "cell_type": "markdown",
   "metadata": {},
   "source": [
    "We try the simple RNN model with fully connected layers to see whether it can give us some \n",
    "prediction power.\n",
    "\n",
    "First try to prepare the data as before"
   ]
  },
  {
   "cell_type": "code",
   "execution_count": 199,
   "metadata": {},
   "outputs": [],
   "source": [
    "XY = nd_mr(10,5,df)\n",
    "XY_train, XY_test = get_train_test(XY,0.9)"
   ]
  },
  {
   "cell_type": "code",
   "execution_count": 200,
   "metadata": {},
   "outputs": [
    {
     "name": "stdout",
     "output_type": "stream",
     "text": [
      "(1777, 10) (198, 10)\n"
     ]
    }
   ],
   "source": [
    "print(XY_train.shape, XY_test.shape)"
   ]
  },
  {
   "cell_type": "code",
   "execution_count": 201,
   "metadata": {},
   "outputs": [],
   "source": [
    "from keras.layers import Dense, Activation\n",
    "from keras.layers.recurrent import SimpleRNN\n",
    "from keras.models import Sequential\n",
    "from keras.layers import Reshape\n",
    "from keras.utils.vis_utils import plot_model"
   ]
  },
  {
   "cell_type": "code",
   "execution_count": 202,
   "metadata": {},
   "outputs": [
    {
     "name": "stdout",
     "output_type": "stream",
     "text": [
      "(1777, 9) (1777,)\n",
      "(198, 9) (198,)\n"
     ]
    }
   ],
   "source": [
    "x_train = XY_train[:,:-1]\n",
    "y_train = XY_train[:,-1]\n",
    "x_test = XY_test[:,:-1]\n",
    "y_test = XY_test[:,-1]\n",
    "print(x_train.shape, y_train.shape)\n",
    "print(x_test.shape, y_test.shape)"
   ]
  },
  {
   "cell_type": "code",
   "execution_count": 203,
   "metadata": {},
   "outputs": [],
   "source": [
    "x_r  = x_train.reshape((len(x_train),len(x_train[0]),1))\n",
    "y_r = y_train.reshape((len(y_train),1))"
   ]
  },
  {
   "cell_type": "code",
   "execution_count": 204,
   "metadata": {},
   "outputs": [],
   "source": [
    "SEQLEN = 9\n",
    "HIDDEN_SIZE = 32\n",
    "BATCH_SIZE = 128\n",
    "NUM_EPOCHS_PER_ITERATION = 25\n",
    "\n",
    "model = Sequential()\n",
    "model.add(SimpleRNN(units=32,input_shape = (9,1), return_sequences=False,\n",
    "                    unroll=True))\n",
    "model.add(Dense(1))\n",
    "model.add(Activation(\"linear\"))\n",
    "model.compile(loss=\"mean_squared_error\", optimizer=\"sgd\")"
   ]
  },
  {
   "cell_type": "code",
   "execution_count": 205,
   "metadata": {},
   "outputs": [
    {
     "name": "stdout",
     "output_type": "stream",
     "text": [
      "Epoch 1/25\n",
      "1777/1777 [==============================] - 1s 321us/step - loss: 0.0012\n",
      "Epoch 2/25\n",
      "1777/1777 [==============================] - 0s 93us/step - loss: 0.0011\n",
      "Epoch 3/25\n",
      "1777/1777 [==============================] - 0s 95us/step - loss: 0.0011\n",
      "Epoch 4/25\n",
      "1777/1777 [==============================] - 0s 97us/step - loss: 0.0011\n",
      "Epoch 5/25\n",
      "1777/1777 [==============================] - 0s 97us/step - loss: 0.0010\n",
      "Epoch 6/25\n",
      "1777/1777 [==============================] - 0s 91us/step - loss: 0.0010\n",
      "Epoch 7/25\n",
      "1777/1777 [==============================] - 0s 96us/step - loss: 9.9567e-04\n",
      "Epoch 8/25\n",
      "1777/1777 [==============================] - 0s 92us/step - loss: 9.7070e-04\n",
      "Epoch 9/25\n",
      "1777/1777 [==============================] - 0s 90us/step - loss: 9.5035e-04\n",
      "Epoch 10/25\n",
      "1777/1777 [==============================] - 0s 92us/step - loss: 9.3046e-04\n",
      "Epoch 11/25\n",
      "1777/1777 [==============================] - 0s 93us/step - loss: 9.1110e-04\n",
      "Epoch 12/25\n",
      "1777/1777 [==============================] - 0s 96us/step - loss: 8.9469e-04\n",
      "Epoch 13/25\n",
      "1777/1777 [==============================] - 0s 107us/step - loss: 8.7772e-04\n",
      "Epoch 14/25\n",
      "1777/1777 [==============================] - 0s 104us/step - loss: 8.6740e-04\n",
      "Epoch 15/25\n",
      "1777/1777 [==============================] - 0s 110us/step - loss: 8.5053e-04\n",
      "Epoch 16/25\n",
      "1777/1777 [==============================] - 0s 116us/step - loss: 8.4172e-04\n",
      "Epoch 17/25\n",
      "1777/1777 [==============================] - 0s 105us/step - loss: 8.3033e-04\n",
      "Epoch 18/25\n",
      "1777/1777 [==============================] - 0s 102us/step - loss: 8.1732e-04\n",
      "Epoch 19/25\n",
      "1777/1777 [==============================] - 0s 117us/step - loss: 8.1386e-04\n",
      "Epoch 20/25\n",
      "1777/1777 [==============================] - 0s 110us/step - loss: 7.9942e-04\n",
      "Epoch 21/25\n",
      "1777/1777 [==============================] - 0s 112us/step - loss: 7.9252e-04\n",
      "Epoch 22/25\n",
      "1777/1777 [==============================] - 0s 114us/step - loss: 7.8537e-04\n",
      "Epoch 23/25\n",
      "1777/1777 [==============================] - 0s 96us/step - loss: 7.7993e-04\n",
      "Epoch 24/25\n",
      "1777/1777 [==============================] - 0s 106us/step - loss: 7.7226e-04\n",
      "Epoch 25/25\n",
      "1777/1777 [==============================] - 0s 105us/step - loss: 7.6758e-04\n"
     ]
    },
    {
     "data": {
      "text/plain": [
       "<keras.callbacks.History at 0x1c30c0fac8>"
      ]
     },
     "execution_count": 205,
     "metadata": {},
     "output_type": "execute_result"
    }
   ],
   "source": [
    "model.fit(x_r, y_r, batch_size=128, epochs=25)"
   ]
  },
  {
   "cell_type": "code",
   "execution_count": 207,
   "metadata": {},
   "outputs": [],
   "source": [
    "y_pred = model.predict(x_train.reshape((len(x_train),-1,1))).reshape((-1,))"
   ]
  },
  {
   "cell_type": "code",
   "execution_count": 208,
   "metadata": {},
   "outputs": [
    {
     "data": {
      "text/plain": [
       "((1777,), (1777,))"
      ]
     },
     "execution_count": 208,
     "metadata": {},
     "output_type": "execute_result"
    }
   ],
   "source": [
    "y_pred.shape, y_train.shape"
   ]
  },
  {
   "cell_type": "code",
   "execution_count": 209,
   "metadata": {},
   "outputs": [
    {
     "data": {
      "text/plain": [
       "0.0007607275427524204"
      ]
     },
     "execution_count": 209,
     "metadata": {},
     "output_type": "execute_result"
    }
   ],
   "source": [
    "mse(y_pred,y_train)"
   ]
  },
  {
   "cell_type": "code",
   "execution_count": 210,
   "metadata": {},
   "outputs": [
    {
     "data": {
      "text/plain": [
       "0.0005333623262103877"
      ]
     },
     "execution_count": 210,
     "metadata": {},
     "output_type": "execute_result"
    }
   ],
   "source": [
    "np.var(y_train)"
   ]
  },
  {
   "cell_type": "markdown",
   "metadata": {},
   "source": [
    "The variance is even worse than the trivial mean prediction in the mean squared error sense"
   ]
  },
  {
   "cell_type": "markdown",
   "metadata": {},
   "source": [
    "Now we can expect the pricing data is too noisy for the prediction model based on RNN. We can further move to the LSTM which is a special model of RNN but with some long term memory states. And the prediction is shifted to the positive part, as over dataset is slightly shifted to the positive direction."
   ]
  },
  {
   "cell_type": "code",
   "execution_count": 211,
   "metadata": {},
   "outputs": [
    {
     "data": {
      "text/plain": [
       "(0.5879629629629629, 0.4375896700143472)"
      ]
     },
     "execution_count": 211,
     "metadata": {},
     "output_type": "execute_result"
    }
   ],
   "source": [
    "np.sum(y_train[y_pred>0]>0)/len(y_train[y_pred>0]), np.sum(y_train[y_pred<0]<0)/len(y_train[y_pred<0])"
   ]
  },
  {
   "cell_type": "code",
   "execution_count": 212,
   "metadata": {},
   "outputs": [
    {
     "data": {
      "text/plain": [
       "0.0004359860361162447"
      ]
     },
     "execution_count": 212,
     "metadata": {},
     "output_type": "execute_result"
    }
   ],
   "source": [
    "y_pred = model.predict(x_test.reshape((len(x_test),-1,1))).reshape((-1,))\n",
    "mse(y_pred,y_test)"
   ]
  },
  {
   "cell_type": "code",
   "execution_count": 213,
   "metadata": {},
   "outputs": [
    {
     "data": {
      "text/plain": [
       "0.00029672867190402803"
      ]
     },
     "execution_count": 213,
     "metadata": {},
     "output_type": "execute_result"
    }
   ],
   "source": [
    "np.var(y_test)"
   ]
  },
  {
   "cell_type": "code",
   "execution_count": 214,
   "metadata": {},
   "outputs": [
    {
     "data": {
      "text/plain": [
       "0.5470085470085471"
      ]
     },
     "execution_count": 214,
     "metadata": {},
     "output_type": "execute_result"
    }
   ],
   "source": [
    "np.sum(y_test[y_pred>0]>0)/len(y_test[y_pred>0])"
   ]
  },
  {
   "cell_type": "code",
   "execution_count": 215,
   "metadata": {},
   "outputs": [
    {
     "data": {
      "text/plain": [
       "0.41975308641975306"
      ]
     },
     "execution_count": 215,
     "metadata": {},
     "output_type": "execute_result"
    }
   ],
   "source": [
    "np.sum(y_test[y_pred<0]<0)/len(y_test[y_pred<0])"
   ]
  },
  {
   "cell_type": "markdown",
   "metadata": {},
   "source": [
    "The above indicates the naive RNN model is not useful in prediction the trend. Since there all models\n",
    "are not making any reasonable predictions right now. We may doubt the price trend is too noisy to train.\n",
    "\n",
    "Then we will move to the next stage to do the text mining and use it to do the prediction of Dow Jones Industrial Index"
   ]
  },
  {
   "cell_type": "markdown",
   "metadata": {},
   "source": [
    "# Text Minning"
   ]
  },
  {
   "cell_type": "code",
   "execution_count": 4,
   "metadata": {},
   "outputs": [],
   "source": [
    "d_news = pd.read_csv('./data2/Combined_News_DJIA.csv').sort_values('Date') # dow jones news\n",
    "s_news = pd.read_csv('./data2/combined_stock_data.csv').sort_values('Date') # stock news\n",
    "r_news = pd.read_csv('./data2/RedditNews.csv').sort_values('Date') # reddit news"
   ]
  },
  {
   "cell_type": "code",
   "execution_count": 5,
   "metadata": {},
   "outputs": [
    {
     "name": "stdout",
     "output_type": "stream",
     "text": [
      "2008-08-08 2016-07-01\n",
      "2008-08-08 2016-07-01\n",
      "2008-06-08 2016-07-01\n"
     ]
    }
   ],
   "source": [
    "print(d_news.Date.iloc[0], d_news.Date.iloc[-1]) \n",
    "print(s_news.Date.iloc[0], s_news.Date.iloc[-1]) \n",
    "print(r_news.Date.iloc[0], r_news.Date.iloc[-1]) "
   ]
  },
  {
   "cell_type": "markdown",
   "metadata": {},
   "source": [
    "## Clean reddit news data\n",
    "\n",
    "It seems we have extra rows for the reddit news, so we just remove those extra news. And also we just choose the top10 news for each of the day"
   ]
  },
  {
   "cell_type": "code",
   "execution_count": 6,
   "metadata": {},
   "outputs": [
    {
     "data": {
      "text/plain": [
       "array([22, 23, 24, 25, 50])"
      ]
     },
     "execution_count": 6,
     "metadata": {},
     "output_type": "execute_result"
    }
   ],
   "source": [
    "np.unique(r_news.groupby('Date').apply(lambda x: len(x)))"
   ]
  },
  {
   "cell_type": "code",
   "execution_count": 7,
   "metadata": {},
   "outputs": [],
   "source": [
    "temp =r_news.groupby('Date').apply(lambda x: np.array(x).reshape((len(x),))[:10])\n",
    "temp = temp.loc[temp.index >= s_news.Date.iloc[0]].reset_index()\n",
    "temp.columns = ['Date','data']\n",
    "\n",
    "temp_r_data = pd.DataFrame()\n",
    "temp_r_data['Date'] = temp.Date\n",
    "\n",
    "for i in range(10):\n",
    "    temp_r_data['top{}'.format(i+1)] = temp['data'].apply(lambda x: x[i])\n",
    "\n",
    "r_clean_news = temp_r_data\n"
   ]
  },
  {
   "cell_type": "code",
   "execution_count": 8,
   "metadata": {},
   "outputs": [],
   "source": [
    "with open('./data2/reddit_clean_news.csv','w') as file:\n",
    "    r_clean_news.to_csv(file)"
   ]
  },
  {
   "cell_type": "code",
   "execution_count": 9,
   "metadata": {},
   "outputs": [],
   "source": [
    "r_clean_news = pd.read_csv('./data2/reddit_clean_news.csv')"
   ]
  },
  {
   "cell_type": "code",
   "execution_count": 222,
   "metadata": {},
   "outputs": [
    {
     "data": {
      "text/html": [
       "<div>\n",
       "<style scoped>\n",
       "    .dataframe tbody tr th:only-of-type {\n",
       "        vertical-align: middle;\n",
       "    }\n",
       "\n",
       "    .dataframe tbody tr th {\n",
       "        vertical-align: top;\n",
       "    }\n",
       "\n",
       "    .dataframe thead th {\n",
       "        text-align: right;\n",
       "    }\n",
       "</style>\n",
       "<table border=\"1\" class=\"dataframe\">\n",
       "  <thead>\n",
       "    <tr style=\"text-align: right;\">\n",
       "      <th></th>\n",
       "      <th>Unnamed: 0</th>\n",
       "      <th>Date</th>\n",
       "      <th>top1</th>\n",
       "      <th>top2</th>\n",
       "      <th>top3</th>\n",
       "      <th>top4</th>\n",
       "      <th>top5</th>\n",
       "      <th>top6</th>\n",
       "      <th>top7</th>\n",
       "      <th>top8</th>\n",
       "      <th>top9</th>\n",
       "      <th>top10</th>\n",
       "    </tr>\n",
       "  </thead>\n",
       "  <tbody>\n",
       "    <tr>\n",
       "      <th>0</th>\n",
       "      <td>0</td>\n",
       "      <td>2008-08-08</td>\n",
       "      <td>b'Georgian troops retreat from S. Osettain cap...</td>\n",
       "      <td>b\"The 'enemy combatent' trials are nothing but...</td>\n",
       "      <td>b\"Breaking: Georgia invades South Ossetia, Rus...</td>\n",
       "      <td>b'150 Russian tanks have entered South Ossetia...</td>\n",
       "      <td>b'Did the U.S. Prep Georgia for War with Russia?'</td>\n",
       "      <td>b'Russian tanks are moving towards the capital...</td>\n",
       "      <td>b'Russia Today: Columns of troops roll into So...</td>\n",
       "      <td>b'BREAKING: Musharraf to be impeached.'</td>\n",
       "      <td>b\"Georgia 'downs two Russian warplanes' as cou...</td>\n",
       "      <td>b\"Afghan children raped with 'impunity,' U.N. ...</td>\n",
       "    </tr>\n",
       "    <tr>\n",
       "      <th>1</th>\n",
       "      <td>1</td>\n",
       "      <td>2008-08-09</td>\n",
       "      <td>b'Activist tries to show Tibetan flag at Olymp...</td>\n",
       "      <td>b'Georgia declares state of war with Russia. '</td>\n",
       "      <td>b\"Mark Almond: It's simplistic to cast Russia ...</td>\n",
       "      <td>b\"Georgia's oil pipeline is key to U.S. support\"</td>\n",
       "      <td>b'38 dead after being bitten by vampire bats'</td>\n",
       "      <td>b'Russian FM: NATO encouraged Georgia - \"it is...</td>\n",
       "      <td>b' Did Invisible Hands Turn Beijings Staging U...</td>\n",
       "      <td>b'Russia v. Georgia: The Oil &amp;amp; Gas Implica...</td>\n",
       "      <td>b'American Killed By Chinese Man at The Olympics'</td>\n",
       "      <td>b'August 1, 2008: International Large-Scale Mi...</td>\n",
       "    </tr>\n",
       "  </tbody>\n",
       "</table>\n",
       "</div>"
      ],
      "text/plain": [
       "   Unnamed: 0        Date                                               top1  \\\n",
       "0           0  2008-08-08  b'Georgian troops retreat from S. Osettain cap...   \n",
       "1           1  2008-08-09  b'Activist tries to show Tibetan flag at Olymp...   \n",
       "\n",
       "                                                top2  \\\n",
       "0  b\"The 'enemy combatent' trials are nothing but...   \n",
       "1     b'Georgia declares state of war with Russia. '   \n",
       "\n",
       "                                                top3  \\\n",
       "0  b\"Breaking: Georgia invades South Ossetia, Rus...   \n",
       "1  b\"Mark Almond: It's simplistic to cast Russia ...   \n",
       "\n",
       "                                                top4  \\\n",
       "0  b'150 Russian tanks have entered South Ossetia...   \n",
       "1   b\"Georgia's oil pipeline is key to U.S. support\"   \n",
       "\n",
       "                                                top5  \\\n",
       "0  b'Did the U.S. Prep Georgia for War with Russia?'   \n",
       "1      b'38 dead after being bitten by vampire bats'   \n",
       "\n",
       "                                                top6  \\\n",
       "0  b'Russian tanks are moving towards the capital...   \n",
       "1  b'Russian FM: NATO encouraged Georgia - \"it is...   \n",
       "\n",
       "                                                top7  \\\n",
       "0  b'Russia Today: Columns of troops roll into So...   \n",
       "1  b' Did Invisible Hands Turn Beijings Staging U...   \n",
       "\n",
       "                                                top8  \\\n",
       "0            b'BREAKING: Musharraf to be impeached.'   \n",
       "1  b'Russia v. Georgia: The Oil &amp; Gas Implica...   \n",
       "\n",
       "                                                top9  \\\n",
       "0  b\"Georgia 'downs two Russian warplanes' as cou...   \n",
       "1  b'American Killed By Chinese Man at The Olympics'   \n",
       "\n",
       "                                               top10  \n",
       "0  b\"Afghan children raped with 'impunity,' U.N. ...  \n",
       "1  b'August 1, 2008: International Large-Scale Mi...  "
      ]
     },
     "execution_count": 222,
     "metadata": {},
     "output_type": "execute_result"
    }
   ],
   "source": [
    "r_clean_news.head(2)"
   ]
  },
  {
   "cell_type": "markdown",
   "metadata": {},
   "source": [
    "We will first separately use the dow jones and stock news first as they are directly related to the financial \n",
    "market, and later we can try to add reddits data to see whether can improve the results and combine everything together."
   ]
  },
  {
   "cell_type": "code",
   "execution_count": 223,
   "metadata": {},
   "outputs": [
    {
     "data": {
      "text/html": [
       "<div>\n",
       "<style scoped>\n",
       "    .dataframe tbody tr th:only-of-type {\n",
       "        vertical-align: middle;\n",
       "    }\n",
       "\n",
       "    .dataframe tbody tr th {\n",
       "        vertical-align: top;\n",
       "    }\n",
       "\n",
       "    .dataframe thead th {\n",
       "        text-align: right;\n",
       "    }\n",
       "</style>\n",
       "<table border=\"1\" class=\"dataframe\">\n",
       "  <thead>\n",
       "    <tr style=\"text-align: right;\">\n",
       "      <th></th>\n",
       "      <th>Date</th>\n",
       "      <th>Label</th>\n",
       "      <th>Top1</th>\n",
       "      <th>Top2</th>\n",
       "      <th>Top3</th>\n",
       "      <th>Top4</th>\n",
       "      <th>Top5</th>\n",
       "      <th>Top6</th>\n",
       "      <th>Top7</th>\n",
       "      <th>Top8</th>\n",
       "      <th>...</th>\n",
       "      <th>Top16</th>\n",
       "      <th>Top17</th>\n",
       "      <th>Top18</th>\n",
       "      <th>Top19</th>\n",
       "      <th>Top20</th>\n",
       "      <th>Top21</th>\n",
       "      <th>Top22</th>\n",
       "      <th>Top23</th>\n",
       "      <th>Top24</th>\n",
       "      <th>Top25</th>\n",
       "    </tr>\n",
       "  </thead>\n",
       "  <tbody>\n",
       "    <tr>\n",
       "      <th>0</th>\n",
       "      <td>2008-08-08</td>\n",
       "      <td>0</td>\n",
       "      <td>b\"Georgia 'downs two Russian warplanes' as cou...</td>\n",
       "      <td>b'BREAKING: Musharraf to be impeached.'</td>\n",
       "      <td>b'Russia Today: Columns of troops roll into So...</td>\n",
       "      <td>b'Russian tanks are moving towards the capital...</td>\n",
       "      <td>b\"Afghan children raped with 'impunity,' U.N. ...</td>\n",
       "      <td>b'150 Russian tanks have entered South Ossetia...</td>\n",
       "      <td>b\"Breaking: Georgia invades South Ossetia, Rus...</td>\n",
       "      <td>b\"The 'enemy combatent' trials are nothing but...</td>\n",
       "      <td>...</td>\n",
       "      <td>b'Georgia Invades South Ossetia - if Russia ge...</td>\n",
       "      <td>b'Al-Qaeda Faces Islamist Backlash'</td>\n",
       "      <td>b'Condoleezza Rice: \"The US would not act to p...</td>\n",
       "      <td>b'This is a busy day:  The European Union has ...</td>\n",
       "      <td>b\"Georgia will withdraw 1,000 soldiers from Ir...</td>\n",
       "      <td>b'Why the Pentagon Thinks Attacking Iran is a ...</td>\n",
       "      <td>b'Caucasus in crisis: Georgia invades South Os...</td>\n",
       "      <td>b'Indian shoe manufactory  - And again in a se...</td>\n",
       "      <td>b'Visitors Suffering from Mental Illnesses Ban...</td>\n",
       "      <td>b\"No Help for Mexico's Kidnapping Surge\"</td>\n",
       "    </tr>\n",
       "    <tr>\n",
       "      <th>1</th>\n",
       "      <td>2008-08-11</td>\n",
       "      <td>1</td>\n",
       "      <td>b'Why wont America and Nato help us? If they w...</td>\n",
       "      <td>b'Bush puts foot down on Georgian conflict'</td>\n",
       "      <td>b\"Jewish Georgian minister: Thanks to Israeli ...</td>\n",
       "      <td>b'Georgian army flees in disarray as Russians ...</td>\n",
       "      <td>b\"Olympic opening ceremony fireworks 'faked'\"</td>\n",
       "      <td>b'What were the Mossad with fraudulent New Zea...</td>\n",
       "      <td>b'Russia angered by Israeli military sale to G...</td>\n",
       "      <td>b'An American citizen living in S.Ossetia blam...</td>\n",
       "      <td>...</td>\n",
       "      <td>b'Israel and the US behind the Georgian aggres...</td>\n",
       "      <td>b'\"Do not believe TV, neither Russian nor Geor...</td>\n",
       "      <td>b'Riots are still going on in Montreal (Canada...</td>\n",
       "      <td>b'China to overtake US as largest manufacturer'</td>\n",
       "      <td>b'War in South Ossetia [PICS]'</td>\n",
       "      <td>b'Israeli Physicians Group Condemns State Tort...</td>\n",
       "      <td>b' Russia has just beaten the United States ov...</td>\n",
       "      <td>b'Perhaps *the* question about the Georgia - R...</td>\n",
       "      <td>b'Russia is so much better at war'</td>\n",
       "      <td>b\"So this is what it's come to: trading sex fo...</td>\n",
       "    </tr>\n",
       "  </tbody>\n",
       "</table>\n",
       "<p>2 rows × 27 columns</p>\n",
       "</div>"
      ],
      "text/plain": [
       "         Date  Label                                               Top1  \\\n",
       "0  2008-08-08      0  b\"Georgia 'downs two Russian warplanes' as cou...   \n",
       "1  2008-08-11      1  b'Why wont America and Nato help us? If they w...   \n",
       "\n",
       "                                          Top2  \\\n",
       "0      b'BREAKING: Musharraf to be impeached.'   \n",
       "1  b'Bush puts foot down on Georgian conflict'   \n",
       "\n",
       "                                                Top3  \\\n",
       "0  b'Russia Today: Columns of troops roll into So...   \n",
       "1  b\"Jewish Georgian minister: Thanks to Israeli ...   \n",
       "\n",
       "                                                Top4  \\\n",
       "0  b'Russian tanks are moving towards the capital...   \n",
       "1  b'Georgian army flees in disarray as Russians ...   \n",
       "\n",
       "                                                Top5  \\\n",
       "0  b\"Afghan children raped with 'impunity,' U.N. ...   \n",
       "1      b\"Olympic opening ceremony fireworks 'faked'\"   \n",
       "\n",
       "                                                Top6  \\\n",
       "0  b'150 Russian tanks have entered South Ossetia...   \n",
       "1  b'What were the Mossad with fraudulent New Zea...   \n",
       "\n",
       "                                                Top7  \\\n",
       "0  b\"Breaking: Georgia invades South Ossetia, Rus...   \n",
       "1  b'Russia angered by Israeli military sale to G...   \n",
       "\n",
       "                                                Top8  \\\n",
       "0  b\"The 'enemy combatent' trials are nothing but...   \n",
       "1  b'An American citizen living in S.Ossetia blam...   \n",
       "\n",
       "                         ...                          \\\n",
       "0                        ...                           \n",
       "1                        ...                           \n",
       "\n",
       "                                               Top16  \\\n",
       "0  b'Georgia Invades South Ossetia - if Russia ge...   \n",
       "1  b'Israel and the US behind the Georgian aggres...   \n",
       "\n",
       "                                               Top17  \\\n",
       "0                b'Al-Qaeda Faces Islamist Backlash'   \n",
       "1  b'\"Do not believe TV, neither Russian nor Geor...   \n",
       "\n",
       "                                               Top18  \\\n",
       "0  b'Condoleezza Rice: \"The US would not act to p...   \n",
       "1  b'Riots are still going on in Montreal (Canada...   \n",
       "\n",
       "                                               Top19  \\\n",
       "0  b'This is a busy day:  The European Union has ...   \n",
       "1    b'China to overtake US as largest manufacturer'   \n",
       "\n",
       "                                               Top20  \\\n",
       "0  b\"Georgia will withdraw 1,000 soldiers from Ir...   \n",
       "1                     b'War in South Ossetia [PICS]'   \n",
       "\n",
       "                                               Top21  \\\n",
       "0  b'Why the Pentagon Thinks Attacking Iran is a ...   \n",
       "1  b'Israeli Physicians Group Condemns State Tort...   \n",
       "\n",
       "                                               Top22  \\\n",
       "0  b'Caucasus in crisis: Georgia invades South Os...   \n",
       "1  b' Russia has just beaten the United States ov...   \n",
       "\n",
       "                                               Top23  \\\n",
       "0  b'Indian shoe manufactory  - And again in a se...   \n",
       "1  b'Perhaps *the* question about the Georgia - R...   \n",
       "\n",
       "                                               Top24  \\\n",
       "0  b'Visitors Suffering from Mental Illnesses Ban...   \n",
       "1                 b'Russia is so much better at war'   \n",
       "\n",
       "                                               Top25  \n",
       "0           b\"No Help for Mexico's Kidnapping Surge\"  \n",
       "1  b\"So this is what it's come to: trading sex fo...  \n",
       "\n",
       "[2 rows x 27 columns]"
      ]
     },
     "execution_count": 223,
     "metadata": {},
     "output_type": "execute_result"
    }
   ],
   "source": [
    "d_news.head(2)"
   ]
  },
  {
   "cell_type": "code",
   "execution_count": 10,
   "metadata": {},
   "outputs": [],
   "source": [
    "X = np.array(s_news.loc[:,['Date']+['Top{}'.format(i+1) for i in range(25)]])"
   ]
  },
  {
   "cell_type": "code",
   "execution_count": 11,
   "metadata": {},
   "outputs": [],
   "source": [
    "# prepare the overday return data\n",
    "dow = pd.read_csv('./data2/DJIA_table.csv')\n",
    "overday_return = np.array(dow.Close/dow.Open-1).reshape((len(dow),1))\n",
    "date = np.array(dow.Date).reshape((len(dow),1))\n",
    "overday_return = np.concatenate([date,overday_return],axis =1)[::-1]\n",
    "with open('./data2/overday_return.csv','w') as file:\n",
    "    pd.DataFrame(overday_return).to_csv(file)"
   ]
  },
  {
   "cell_type": "code",
   "execution_count": 226,
   "metadata": {},
   "outputs": [
    {
     "data": {
      "text/plain": [
       "array([['2008-08-08', 0.02643702701117423],\n",
       "       ['2008-08-11', 0.0044911482889382634]], dtype=object)"
      ]
     },
     "execution_count": 226,
     "metadata": {},
     "output_type": "execute_result"
    }
   ],
   "source": [
    "overday_return =np.array(pd.read_csv('./data2/overday_return.csv'))[:,1:]\n",
    "overday_return[:2]"
   ]
  },
  {
   "cell_type": "code",
   "execution_count": 227,
   "metadata": {},
   "outputs": [
    {
     "data": {
      "text/plain": [
       "((1989, 26), (1989, 2))"
      ]
     },
     "execution_count": 227,
     "metadata": {},
     "output_type": "execute_result"
    }
   ],
   "source": [
    "X.shape, overday_return.shape"
   ]
  },
  {
   "cell_type": "markdown",
   "metadata": {},
   "source": [
    "## Learning by wordcount vector and logistic model"
   ]
  },
  {
   "cell_type": "markdown",
   "metadata": {},
   "source": [
    "In the following we will use the logistic to do prediction based on the \n",
    "dow jones news and the overday up and down in of the index. We will use the word countvector to \n",
    "quantitize every day news."
   ]
  },
  {
   "cell_type": "code",
   "execution_count": 12,
   "metadata": {},
   "outputs": [],
   "source": [
    "from sklearn.feature_extraction.text import CountVectorizer\n",
    "from sklearn.linear_model import LogisticRegression"
   ]
  },
  {
   "cell_type": "code",
   "execution_count": 13,
   "metadata": {},
   "outputs": [],
   "source": [
    "# import news of dow jones\n",
    "d_news = pd.read_csv('./data2/Combined_News_DJIA.csv').sort_values('Date')\n",
    "d_news.replace(to_replace=\"[^a-zA-Z]\", value=\" \", regex=True, inplace=True)\n",
    "d_news = d_news.fillna(' ')\n",
    "# y label the ups and dows of index\n",
    "y = np.array(d_news.Label).reshape((-1,1))\n",
    "# get the every news into np.array form\n",
    "x = d_news.loc[:,'Top1':]\n",
    "x = np.array(x.applymap(lambda x: x.lower()))\n",
    "x = list(map(lambda x: ' '.join(x), x))"
   ]
  },
  {
   "cell_type": "code",
   "execution_count": 14,
   "metadata": {},
   "outputs": [
    {
     "name": "stdout",
     "output_type": "stream",
     "text": [
      "(1989, 33244)\n"
     ]
    }
   ],
   "source": [
    "vectorize = CountVectorizer(ngram_range=(1,1))\n",
    "x_vect = vectorize.fit_transform(x)\n",
    "print(x_vect.shape)"
   ]
  },
  {
   "cell_type": "code",
   "execution_count": 15,
   "metadata": {},
   "outputs": [],
   "source": [
    "train_size = int(len(y)*0.9)\n",
    "x_train = x_vect[:train_size,:]\n",
    "y_train = y[:train_size]\n",
    "x_test = x_vect[train_size:,:]\n",
    "y_test = y[train_size:]"
   ]
  },
  {
   "cell_type": "code",
   "execution_count": 16,
   "metadata": {},
   "outputs": [
    {
     "name": "stderr",
     "output_type": "stream",
     "text": [
      "/home/makashima/.local/lib/python3.6/site-packages/sklearn/linear_model/logistic.py:433: FutureWarning: Default solver will be changed to 'lbfgs' in 0.22. Specify a solver to silence this warning.\n",
      "  FutureWarning)\n",
      "/home/makashima/.local/lib/python3.6/site-packages/sklearn/utils/validation.py:761: DataConversionWarning: A column-vector y was passed when a 1d array was expected. Please change the shape of y to (n_samples, ), for example using ravel().\n",
      "  y = column_or_1d(y, warn=True)\n"
     ]
    }
   ],
   "source": [
    "log_model = LogisticRegression()\n",
    "log_model = log_model.fit(x_train, y_train)"
   ]
  },
  {
   "cell_type": "code",
   "execution_count": 233,
   "metadata": {},
   "outputs": [],
   "source": [
    "train_pred = log_model.predict(x_train)"
   ]
  },
  {
   "cell_type": "code",
   "execution_count": 234,
   "metadata": {},
   "outputs": [
    {
     "data": {
      "text/html": [
       "<div>\n",
       "<style scoped>\n",
       "    .dataframe tbody tr th:only-of-type {\n",
       "        vertical-align: middle;\n",
       "    }\n",
       "\n",
       "    .dataframe tbody tr th {\n",
       "        vertical-align: top;\n",
       "    }\n",
       "\n",
       "    .dataframe thead th {\n",
       "        text-align: right;\n",
       "    }\n",
       "</style>\n",
       "<table border=\"1\" class=\"dataframe\">\n",
       "  <thead>\n",
       "    <tr style=\"text-align: right;\">\n",
       "      <th>Predicted</th>\n",
       "      <th>0</th>\n",
       "      <th>1</th>\n",
       "    </tr>\n",
       "    <tr>\n",
       "      <th>Actual</th>\n",
       "      <th></th>\n",
       "      <th></th>\n",
       "    </tr>\n",
       "  </thead>\n",
       "  <tbody>\n",
       "    <tr>\n",
       "      <th>0</th>\n",
       "      <td>832</td>\n",
       "      <td>0</td>\n",
       "    </tr>\n",
       "    <tr>\n",
       "      <th>1</th>\n",
       "      <td>0</td>\n",
       "      <td>958</td>\n",
       "    </tr>\n",
       "  </tbody>\n",
       "</table>\n",
       "</div>"
      ],
      "text/plain": [
       "Predicted    0    1\n",
       "Actual             \n",
       "0          832    0\n",
       "1            0  958"
      ]
     },
     "execution_count": 234,
     "metadata": {},
     "output_type": "execute_result"
    }
   ],
   "source": [
    "pd.crosstab(y_train.reshape((-1,)), train_pred, rownames=[\"Actual\"], colnames=[\"Predicted\"])"
   ]
  },
  {
   "cell_type": "markdown",
   "metadata": {},
   "source": [
    "The train error seems to be prefect, but this can lead to the problem of overfitting which we will \n",
    "see in the following"
   ]
  },
  {
   "cell_type": "code",
   "execution_count": 235,
   "metadata": {},
   "outputs": [],
   "source": [
    "predictions = log_model.predict(x_test)"
   ]
  },
  {
   "cell_type": "code",
   "execution_count": 236,
   "metadata": {},
   "outputs": [
    {
     "data": {
      "text/html": [
       "<div>\n",
       "<style scoped>\n",
       "    .dataframe tbody tr th:only-of-type {\n",
       "        vertical-align: middle;\n",
       "    }\n",
       "\n",
       "    .dataframe tbody tr th {\n",
       "        vertical-align: top;\n",
       "    }\n",
       "\n",
       "    .dataframe thead th {\n",
       "        text-align: right;\n",
       "    }\n",
       "</style>\n",
       "<table border=\"1\" class=\"dataframe\">\n",
       "  <thead>\n",
       "    <tr style=\"text-align: right;\">\n",
       "      <th>Predicted</th>\n",
       "      <th>0</th>\n",
       "      <th>1</th>\n",
       "    </tr>\n",
       "    <tr>\n",
       "      <th>Actual</th>\n",
       "      <th></th>\n",
       "      <th></th>\n",
       "    </tr>\n",
       "  </thead>\n",
       "  <tbody>\n",
       "    <tr>\n",
       "      <th>0</th>\n",
       "      <td>29</td>\n",
       "      <td>63</td>\n",
       "    </tr>\n",
       "    <tr>\n",
       "      <th>1</th>\n",
       "      <td>49</td>\n",
       "      <td>58</td>\n",
       "    </tr>\n",
       "  </tbody>\n",
       "</table>\n",
       "</div>"
      ],
      "text/plain": [
       "Predicted   0   1\n",
       "Actual           \n",
       "0          29  63\n",
       "1          49  58"
      ]
     },
     "execution_count": 236,
     "metadata": {},
     "output_type": "execute_result"
    }
   ],
   "source": [
    "pd.crosstab(y_test.reshape((-1,)), predictions, rownames=[\"Actual\"], colnames=[\"Predicted\"])"
   ]
  },
  {
   "cell_type": "code",
   "execution_count": 18,
   "metadata": {},
   "outputs": [
    {
     "name": "stderr",
     "output_type": "stream",
     "text": [
      "/home/makashima/.local/lib/python3.6/site-packages/sklearn/ensemble/forest.py:246: FutureWarning: The default value of n_estimators will change from 10 in version 0.20 to 100 in 0.22.\n",
      "  \"10 in version 0.20 to 100 in 0.22.\", FutureWarning)\n",
      "/home/makashima/.local/lib/python3.6/site-packages/ipykernel_launcher.py:3: DataConversionWarning: A column-vector y was passed when a 1d array was expected. Please change the shape of y to (n_samples,), for example using ravel().\n",
      "  This is separate from the ipykernel package so we can avoid doing imports until\n"
     ]
    },
    {
     "data": {
      "text/html": [
       "<div>\n",
       "<style scoped>\n",
       "    .dataframe tbody tr th:only-of-type {\n",
       "        vertical-align: middle;\n",
       "    }\n",
       "\n",
       "    .dataframe tbody tr th {\n",
       "        vertical-align: top;\n",
       "    }\n",
       "\n",
       "    .dataframe thead th {\n",
       "        text-align: right;\n",
       "    }\n",
       "</style>\n",
       "<table border=\"1\" class=\"dataframe\">\n",
       "  <thead>\n",
       "    <tr style=\"text-align: right;\">\n",
       "      <th>Predicted</th>\n",
       "      <th>0</th>\n",
       "      <th>1</th>\n",
       "    </tr>\n",
       "    <tr>\n",
       "      <th>Actual</th>\n",
       "      <th></th>\n",
       "      <th></th>\n",
       "    </tr>\n",
       "  </thead>\n",
       "  <tbody>\n",
       "    <tr>\n",
       "      <th>0</th>\n",
       "      <td>828</td>\n",
       "      <td>4</td>\n",
       "    </tr>\n",
       "    <tr>\n",
       "      <th>1</th>\n",
       "      <td>15</td>\n",
       "      <td>943</td>\n",
       "    </tr>\n",
       "  </tbody>\n",
       "</table>\n",
       "</div>"
      ],
      "text/plain": [
       "Predicted    0    1\n",
       "Actual             \n",
       "0          828    4\n",
       "1           15  943"
      ]
     },
     "execution_count": 18,
     "metadata": {},
     "output_type": "execute_result"
    }
   ],
   "source": [
    "from sklearn.ensemble import RandomForestClassifier\n",
    "rand_forrest=RandomForestClassifier()\n",
    "rand_forrest=rand_forrest.fit(x_train,y_train)\n",
    "train_pred = rand_forrest.predict(x_train)\n",
    "pd.crosstab(y_train.reshape((-1,)), train_pred, rownames=[\"Actual\"], colnames=[\"Predicted\"])\n"
   ]
  },
  {
   "cell_type": "code",
   "execution_count": 19,
   "metadata": {},
   "outputs": [
    {
     "data": {
      "text/html": [
       "<div>\n",
       "<style scoped>\n",
       "    .dataframe tbody tr th:only-of-type {\n",
       "        vertical-align: middle;\n",
       "    }\n",
       "\n",
       "    .dataframe tbody tr th {\n",
       "        vertical-align: top;\n",
       "    }\n",
       "\n",
       "    .dataframe thead th {\n",
       "        text-align: right;\n",
       "    }\n",
       "</style>\n",
       "<table border=\"1\" class=\"dataframe\">\n",
       "  <thead>\n",
       "    <tr style=\"text-align: right;\">\n",
       "      <th>Predicted</th>\n",
       "      <th>0</th>\n",
       "      <th>1</th>\n",
       "    </tr>\n",
       "    <tr>\n",
       "      <th>Actual</th>\n",
       "      <th></th>\n",
       "      <th></th>\n",
       "    </tr>\n",
       "  </thead>\n",
       "  <tbody>\n",
       "    <tr>\n",
       "      <th>0</th>\n",
       "      <td>52</td>\n",
       "      <td>40</td>\n",
       "    </tr>\n",
       "    <tr>\n",
       "      <th>1</th>\n",
       "      <td>62</td>\n",
       "      <td>45</td>\n",
       "    </tr>\n",
       "  </tbody>\n",
       "</table>\n",
       "</div>"
      ],
      "text/plain": [
       "Predicted   0   1\n",
       "Actual           \n",
       "0          52  40\n",
       "1          62  45"
      ]
     },
     "execution_count": 19,
     "metadata": {},
     "output_type": "execute_result"
    }
   ],
   "source": [
    "predictions = rand_forrest.predict(x_test)\n",
    "pd.crosstab(y_test.reshape((-1,)), predictions, rownames=[\"Actual\"], colnames=[\"Predicted\"])"
   ]
  },
  {
   "cell_type": "markdown",
   "metadata": {},
   "source": [
    "The cross table result shows the final result of prediction is almost useless. And the main reason is the training set is too small but the features of the 1-gram count vector is too big. The overfitting may occur in other models if we still transform the text information to the vectorcount."
   ]
  },
  {
   "cell_type": "markdown",
   "metadata": {},
   "source": [
    "In order to avoid the above problem we will try to use tf-idf to do the analysis. We will use the \n",
    "tf-idf to identify the similarity headlines and then we will choose the predictions on average of the most similar\n",
    "label."
   ]
  },
  {
   "cell_type": "code",
   "execution_count": 237,
   "metadata": {},
   "outputs": [],
   "source": [
    "# prepare data\n",
    "d_news = pd.read_csv('./data2/Combined_News_DJIA.csv').sort_values('Date')\n",
    "d_news.replace(to_replace=\"[^a-zA-Z]\", value=\" \", regex=True, inplace=True)\n",
    "y = np.array(d_news.Label)\n",
    "data = d_news.fillna(' ')\n",
    "data = data.iloc[:,2:].applymap(lambda x: x.lower())"
   ]
  },
  {
   "cell_type": "code",
   "execution_count": 238,
   "metadata": {},
   "outputs": [],
   "source": [
    "# prepare train and test data\n",
    "train_number = int(len(data)*0.9)\n",
    "test_number = len(data) - train_number\n",
    "full_data = np.array(data)\n",
    "full_data = full_data.reshape((-1,))\n",
    "train = np.array(data.iloc[:train_number,:])\n",
    "test = np.array(data.iloc[train_number:,:])"
   ]
  },
  {
   "cell_type": "code",
   "execution_count": 239,
   "metadata": {},
   "outputs": [],
   "source": [
    "# build tf-idf model on the full data\n",
    "from sklearn.feature_extraction.text import TfidfVectorizer\n",
    "corpus = full_data\n",
    "vectorizer = TfidfVectorizer()\n",
    "X = vectorizer.fit_transform(corpus)"
   ]
  },
  {
   "cell_type": "code",
   "execution_count": 240,
   "metadata": {},
   "outputs": [],
   "source": [
    "# compute prediction on average of the most similar headline labels\n",
    "x_train = X[:train_number,:]\n",
    "label_pred = []\n",
    "for i in range(train_number,len(data)):\n",
    "    pred = x_train.dot(X[i*25:(i+1)*25].T).argmax(axis = 0 )\n",
    "    label = int(y[np.array(pred)[0]].mean().round())\n",
    "    label_pred.append(label)\n"
   ]
  },
  {
   "cell_type": "code",
   "execution_count": 241,
   "metadata": {},
   "outputs": [
    {
     "data": {
      "text/html": [
       "<div>\n",
       "<style scoped>\n",
       "    .dataframe tbody tr th:only-of-type {\n",
       "        vertical-align: middle;\n",
       "    }\n",
       "\n",
       "    .dataframe tbody tr th {\n",
       "        vertical-align: top;\n",
       "    }\n",
       "\n",
       "    .dataframe thead th {\n",
       "        text-align: right;\n",
       "    }\n",
       "</style>\n",
       "<table border=\"1\" class=\"dataframe\">\n",
       "  <thead>\n",
       "    <tr style=\"text-align: right;\">\n",
       "      <th>Predicted</th>\n",
       "      <th>0</th>\n",
       "      <th>1</th>\n",
       "    </tr>\n",
       "    <tr>\n",
       "      <th>Actual</th>\n",
       "      <th></th>\n",
       "      <th></th>\n",
       "    </tr>\n",
       "  </thead>\n",
       "  <tbody>\n",
       "    <tr>\n",
       "      <th>0</th>\n",
       "      <td>31</td>\n",
       "      <td>61</td>\n",
       "    </tr>\n",
       "    <tr>\n",
       "      <th>1</th>\n",
       "      <td>35</td>\n",
       "      <td>72</td>\n",
       "    </tr>\n",
       "  </tbody>\n",
       "</table>\n",
       "</div>"
      ],
      "text/plain": [
       "Predicted   0   1\n",
       "Actual           \n",
       "0          31  61\n",
       "1          35  72"
      ]
     },
     "execution_count": 241,
     "metadata": {},
     "output_type": "execute_result"
    }
   ],
   "source": [
    "# compare the predictions\n",
    "y_test = y[train_number:]\n",
    "y_pred = label_pred\n",
    "\n",
    "pd.crosstab(np.array(y_test), np.array(y_pred), rownames=[\"Actual\"], colnames=[\"Predicted\"])"
   ]
  },
  {
   "cell_type": "markdown",
   "metadata": {},
   "source": [
    "The result is just slightly better than the random guess and it is good at predicting the ups rather\n",
    "then the downs. So maybe this can be a good classifier for one direction (ups) movememt of index."
   ]
  },
  {
   "cell_type": "code",
   "execution_count": null,
   "metadata": {},
   "outputs": [],
   "source": []
  }
 ],
 "metadata": {
  "kernelspec": {
   "display_name": "Python 3",
   "language": "python",
   "name": "python3"
  },
  "language_info": {
   "codemirror_mode": {
    "name": "ipython",
    "version": 3
   },
   "file_extension": ".py",
   "mimetype": "text/x-python",
   "name": "python",
   "nbconvert_exporter": "python",
   "pygments_lexer": "ipython3",
   "version": "3.6.5"
  }
 },
 "nbformat": 4,
 "nbformat_minor": 2
}
